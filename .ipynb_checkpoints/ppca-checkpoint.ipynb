{
 "cells": [
  {
   "cell_type": "code",
   "execution_count": 10,
   "id": "b718456e-71ee-4772-8c40-0f745e2b7816",
   "metadata": {},
   "outputs": [
    {
     "data": {
      "text/plain": [
       "<module 'utils.helpers' from '/home/dvolo/uni/00-landoni/bigmac/utils/helpers.py'>"
      ]
     },
     "execution_count": 10,
     "metadata": {},
     "output_type": "execute_result"
    }
   ],
   "source": [
    "import sys\n",
    "import os\n",
    "from glob import glob\n",
    "import numpy as np\n",
    "import pandas as pd\n",
    "import seaborn as sns\n",
    "import matplotlib.pyplot as plt\n",
    "from tqdm import tqdm\n",
    "import pickle as pkl\n",
    "import importlib\n",
    "from ppca import PPCA\n",
    "\n",
    "from sklearn.model_selection import train_test_split, StratifiedKFold, cross_val_score\n",
    "from sklearn.preprocessing import LabelEncoder, StandardScaler\n",
    "from imblearn.ensemble import BalancedRandomForestClassifier\n",
    "from sklearn.metrics import accuracy_score, classification_report, confusion_matrix, precision_recall_fscore_support, roc_auc_score\n",
    "from sklearn.impute import SimpleImputer\n",
    "from sklearn.feature_selection import RFECV\n",
    "\n",
    "import utils\n",
    "from utils.testers import ss, assess\n",
    "from utils.reporters import basic_scores, bs_rankings, bs_curves\n",
    "from utils.helpers import mask50, myLabelEncoder\n",
    "importlib.reload(utils.reporters)\n",
    "importlib.reload(utils.testers)\n",
    "importlib.reload(utils.helpers)"
   ]
  },
  {
   "cell_type": "code",
   "execution_count": 3,
   "id": "842d50f2-066e-4f1b-a7af-212210d16743",
   "metadata": {},
   "outputs": [],
   "source": [
    "## Dataset import\n",
    "raw_data_path = \"data/pkl/divided/\"\n",
    "pf = pd.read_pickle(raw_data_path+\"periodic_features.pkl\")\n",
    "pl = pd.read_pickle(raw_data_path+\"periodic_labeled.pkl\")\n",
    "lab = [\"LPV\",\"E\",\"DSCT\",\"RRL\",\"CEP\",\"Periodic-Other\"]\n",
    "pf50 = pf.iloc[:,mask50]"
   ]
  },
  {
   "cell_type": "code",
   "execution_count": 5,
   "id": "13d5ab05-a601-4795-91a6-354f230770d9",
   "metadata": {},
   "outputs": [],
   "source": [
    "def compute_save_ppca(X, ds, folder=None, fileroot=None, verbose=False, seed=None):\n",
    "    for i, d in enumerate(ds):\n",
    "        ppca = PPCA()\n",
    "        ppca.fit(data=X, d=d, verbose=verbose, seed=seed)\n",
    "        if folder is not None and fileroot is not None:\n",
    "            ppca_filename = folder+\"ppca/\"+ fileroot + str(int(d))\n",
    "            X_filename = folder+\"X/\"+fileroot + str(int(d))+\".npy\"\n",
    "            ppca.save(ppca_filename)\n",
    "            np.save(X_filename, ppca.data)\n",
    "            print(\"Saved files \" + ppca_filename + \" and \" + X_filename)\n",
    "    if not i:\n",
    "        return ppca"
   ]
  },
  {
   "cell_type": "code",
   "execution_count": 9,
   "id": "bde663b8-d8cc-479f-b402-c37379135d68",
   "metadata": {},
   "outputs": [
    {
     "ename": "TypeError",
     "evalue": "PPCA.fit() got an unexpected keyword argument 'seed'",
     "output_type": "error",
     "traceback": [
      "\u001b[0;31m---------------------------------------------------------------------------\u001b[0m",
      "\u001b[0;31mTypeError\u001b[0m                                 Traceback (most recent call last)",
      "Cell \u001b[0;32mIn[9], line 2\u001b[0m\n\u001b[1;32m      1\u001b[0m ppca \u001b[38;5;241m=\u001b[39m PPCA()\n\u001b[0;32m----> 2\u001b[0m \u001b[43mppca\u001b[49m\u001b[38;5;241;43m.\u001b[39;49m\u001b[43mfit\u001b[49m\u001b[43m(\u001b[49m\u001b[43mdata\u001b[49m\u001b[38;5;241;43m=\u001b[39;49m\u001b[43mpf50\u001b[49m\u001b[38;5;241;43m.\u001b[39;49m\u001b[43mvalues\u001b[49m\u001b[43m,\u001b[49m\u001b[43m \u001b[49m\u001b[43md\u001b[49m\u001b[38;5;241;43m=\u001b[39;49m\u001b[38;5;241;43m2\u001b[39;49m\u001b[43m,\u001b[49m\u001b[43m \u001b[49m\u001b[43mseed\u001b[49m\u001b[38;5;241;43m=\u001b[39;49m\u001b[38;5;241;43m0\u001b[39;49m\u001b[43m)\u001b[49m\n",
      "\u001b[0;31mTypeError\u001b[0m: PPCA.fit() got an unexpected keyword argument 'seed'"
     ]
    }
   ],
   "source": [
    "ppca = PPCA()\n",
    "ppca.fit(data=pf50.values, d=2, seed=0)"
   ]
  },
  {
   "cell_type": "code",
   "execution_count": 26,
   "id": "5c6c80c0-9628-4565-b142-aa0965d8c15d",
   "metadata": {},
   "outputs": [],
   "source": [
    "si = SimpleImputer(strategy=\"constant\", fillvalue=-999)\n",
    "X = si.fit_transform(pf.values)\n",
    "X50 = si.fit_transform(pf50.values)\n",
    "np.save(\"data/ppcas3/X/basicfull.npy\",X)\n",
    "np.save(\"data/ppcas3/X/basic50.npy\",X50)"
   ]
  }
 ],
 "metadata": {
  "kernelspec": {
   "display_name": "Python 3 (ipykernel)",
   "language": "python",
   "name": "python3"
  },
  "language_info": {
   "codemirror_mode": {
    "name": "ipython",
    "version": 3
   },
   "file_extension": ".py",
   "mimetype": "text/x-python",
   "name": "python",
   "nbconvert_exporter": "python",
   "pygments_lexer": "ipython3",
   "version": "3.11.6"
  }
 },
 "nbformat": 4,
 "nbformat_minor": 5
}
