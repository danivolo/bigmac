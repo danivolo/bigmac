{
 "cells": [
  {
   "cell_type": "code",
   "execution_count": 19,
   "id": "b718456e-71ee-4772-8c40-0f745e2b7816",
   "metadata": {},
   "outputs": [],
   "source": [
    "import sys\n",
    "import os\n",
    "from glob import glob\n",
    "import numpy as np\n",
    "import pandas as pd\n",
    "import seaborn as sns\n",
    "import matplotlib.pyplot as plt\n",
    "from tqdm import tqdm\n",
    "import pickle as pkl\n",
    "import importlib\n",
    "from ppca import PPCA\n",
    "\n",
    "from sklearn.model_selection import train_test_split, StratifiedKFold, cross_val_score\n",
    "from sklearn.preprocessing import LabelEncoder, StandardScaler\n",
    "from imblearn.ensemble import BalancedRandomForestClassifier\n",
    "from sklearn.metrics import accuracy_score, classification_report, confusion_matrix, precision_recall_fscore_support, roc_auc_score\n",
    "from sklearn.impute import SimpleImputer\n",
    "from sklearn.feature_selection import RFECV\n",
    "\n",
    "import utils\n",
    "from utils.testers import ss, assess\n",
    "from utils.reporters import basic_scores, bs_rankings, bs_curves\n",
    "from utils.helpers import mask50, myLabelEncoder\n",
    "importlib.reload(utils.reporters)\n",
    "importlib.reload(utils.testers)\n",
    "importlib.reload(utils.helpers)"
   ]
  },
  {
   "cell_type": "code",
   "execution_count": 20,
   "id": "842d50f2-066e-4f1b-a7af-212210d16743",
   "metadata": {},
   "outputs": [],
   "source": [
    "## Dataset import\n",
    "pf = pd.read_pickle(\"data/periodic_features.pkl\")\n",
    "pl = pd.read_pickle(\"data/periodic_labeled.pkl\")\n",
    "lab = [\"LPV\",\"E\",\"DSCT\",\"RRL\",\"CEP\",\"Periodic-Other\"]\n",
    "pf50 = pf.iloc[:,mask50]"
   ]
  },
  {
   "cell_type": "code",
   "execution_count": null,
   "id": "13d5ab05-a601-4795-91a6-354f230770d9",
   "metadata": {},
   "outputs": [],
   "source": [
    "def compute_save_ppca(X, ds, folder=None, fileroot=None, verbose=False):\n",
    "    for i, d in enumerate(ds):\n",
    "        ppca = PPCA()\n",
    "        ppca.fit(data=X, d=d, verbose=verbose)\n",
    "        if folder is not None and fileroot is not None:\n",
    "            ppca_filename = folder+\"ppca/\"+ fileroot + str(int(d))\n",
    "            X_filename = folder+\"X/\"+fileroot + str(int(d))+\".npy\"\n",
    "            ppca.save(ppca_filename)\n",
    "            np.save(X_filename, ppca.data)\n",
    "            print(\"Saved files \" + ppca_filename + \" and \" + X_filename)\n",
    "    if not i:\n",
    "        return ppca"
   ]
  },
  {
   "cell_type": "code",
   "execution_count": 26,
   "id": "5c6c80c0-9628-4565-b142-aa0965d8c15d",
   "metadata": {},
   "outputs": [],
   "source": [
    "si = SimpleImputer(strategy=\"constant\", fillvalue=-999)\n",
    "X = si.fit_transform(pf.values)\n",
    "X50 = si.fit_transform(pf50.values)\n",
    "np.save(\"data/ppcas3/X/basicfull.npy\",X)\n",
    "np.save(\"data/ppcas3/X/basic50.npy\",X50)"
   ]
  }
 ],
 "metadata": {
  "kernelspec": {
   "display_name": "Python 3 (ipykernel)",
   "language": "python",
   "name": "python3"
  },
  "language_info": {
   "codemirror_mode": {
    "name": "ipython",
    "version": 3
   },
   "file_extension": ".py",
   "mimetype": "text/x-python",
   "name": "python",
   "nbconvert_exporter": "python",
   "pygments_lexer": "ipython3",
   "version": "3.11.6"
  }
 },
 "nbformat": 4,
 "nbformat_minor": 5
}
