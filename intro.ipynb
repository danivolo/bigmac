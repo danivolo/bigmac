{
 "cells": [
  {
   "cell_type": "markdown",
   "id": "ed7cd351-054d-4f11-a688-c3230f590256",
   "metadata": {},
   "source": [
    "# BIGMAC (BuildIng Gradually My ALErCE Clone)\n",
    "## Introduction\n",
    "This project aims to build a clone of the ALErCE broker lightcurve classifier described in [Sanchez–Saez (2020)](dx.doi.org/10.3847/1538-3881/abd5c1). \n",
    "\n",
    "The classifier uses 152 features (though 183 are listed in the dataset) computed from the lightcurves in the red and green bands to distinguish ZTF alert events into 15 classes.\n",
    "The classification is performed in two steps: first, the signals are divided into transient (supernovae), stochastic (active galactic nuclei/cataclysmic variables)\n",
    "and periodic (variable stars), then each subgroup is classified indipendently into 4-6 classes. There are thus 4 different classifiers.\n",
    "\n",
    "The authors found the best performance using a (Balanced) Random Forest (BRF) classifier, implemented with the imbalanced-learn python package.\n",
    "A Gradient Boosting Classifier and a Multilayer Perceptron Classifier were also tried, with a slightly worse outcome.\n",
    "\n",
    "I will be using a portion of the complete dataset available [here](https://zenodo.org/records/4279623). \n",
    "\n",
    "## Data Preprocessing\n",
    "### Feature reduction\n",
    "- RFE(CV) with 50 features is the single best thing to help the classifier\n",
    "- For assessment see the PCA section\n",
    "- Apply just RFE to the other sets to see the list of features. A bit of science.\n",
    "\n",
    "### PCA\n",
    "- Data is full of NaNs: we have to interpolate using a constant -999 (paper) or other ideas (mean, median...)\n",
    "- Probabilistic PCA iteratively tries to get a good set of principal components starting from a random one,\n",
    "  interpolating the data meanwhile\n",
    "- Just a better imputer or the rotation is useful? Data suggests it does not really help:\n",
    "\n",
    "PPCA transformation vs simple interpolating (ppcas/):\n",
    "- PPCA-rotating we get pretty distanced 0.92 and 0.94 roc_auc for full and rfe-reduced dataset largely independent of number components assumed during PPCA\n",
    "- Just using the interpolated data but without caring about principal components the score goes up to 0.972 and 0.974 respectively, so better.\n",
    "- Try different random_states, just in case, but I think this proves PPCA is just good enough to fill\n",
    "- Rankings\n",
    "\n",
    "Minimum to maximum number of assumed principal components (2->50) (ppcas2/):\n",
    "- Focusing on the rfe-reduced dataset, it's interesting that even 10 components (out of 50 features) give a really good result\n",
    "- Either way the best result is obtained assuming as many underlying components as features (50)\n",
    "- Curve plot\n",
    "\n",
    "Raw dataset vs rfe vs ppca imputing (ppcas3/):\n",
    "- Proves that according to every metric but my frobenius_score the rfe-reduced set wins, but there isn't a clear winner between -999 filling and PPCA interpolation without rotation, so simplicity suggests just using constant value imputing\n",
    "- Rankings\n",
    "\n",
    "### Still to do\n",
    "- Now focusing on -999 and PPCA-interpolated rfe-reduced datasets, does conventional PCA help?\n",
    "- As in, there's no reason PPCA should give a different answer, but maybe algorithms are different, sklearn's function are more informative?\n",
    "- I tried on the -999 earlier and it didn't seem useful, but maybe because -999 is a cringe value? PPCA prepares the data better?\n",
    "- Concretely: compare explained variances of PPCA, PCA on -999 and PCA on PPCA (I know, stupid, but try), is there anything useful?\n",
    "- More concretely: I want a plot of three curves of explained variance as a function of component rank.\n",
    "## Model analysis\n",
    "Here the testing is on rfe-reduced, -999 filled dataset.\n",
    "### BRF\n",
    "- Why is RF easy to balance?\n",
    "- What are the hyperparameters other than n_estimators?\n",
    "- I'm exploring n_estimators and it seems like roc_auc keeps going up until 10000? Hope it's not so\n",
    "- Testing on rfe-reduced, -999 filled dataset with basic_scores()\n",
    "- Concretely: a plot of a curve for prec, rec, f1, roc_auc, froD, froOD (everything is in (0,1)) for x logspaced from 100 to 10000.\n",
    "### Overfitting\n",
    "- Seems like I don't get overfitting using n_trees < n_samples... hell I cannot even train a 100k tree RF without everything breaking, not counting there's less than 90k samples in periodic...\n",
    "- Idk I'll do a good scan of 50-10k max and get stds\n",
    "### Other classifiers\n",
    "- ADABoost, Gradient Boost, KNN (because I know them and they all support proba)\n",
    "- For each one do a reasonable scan of complexity parameters and get the best\n",
    "- Concretely: a plot like above for each classifier\n",
    "- Then compare with the best BRF using basic_scores() rankings\n",
    "## Stuff to include somehow\n",
    "- A confusion matrix of the best case, with stds\n",
    "## Notes on testing\n",
    "- Basically the scores are the six above (frobenius score is nothing strange really, let's see if it's useful)\n",
    "- Comparison of parameters are given by graphs, comparison of different strategies by rankings\n",
    "- Every value has to be mean +- std: use ShuffleSplit, get scores (mainly macro-averaged on labels) and average on splits, then np.mean, np.std\n",
    "- For the final version I want 50 splits for every data point\n",
    "## Contents of package `utils`:\n",
    "### `testers.py`\n",
    "- `ss()`\n",
    "- `assess()`\n",
    "- `test_datasets()`\n",
    "### `reporters.py`\n",
    "- `bs_rankings()`\n",
    "- `bs_curves()`\n",
    "- `plot_cm()`\n",
    "- `format_array_stats()`\n",
    "- `compare_cm()` (only useful to compare worst to best case)\n",
    "### `helpers.py`\n",
    "- `fro_score()`\n",
    "- `diag()`\n",
    "- `odiag()`\n",
    "- `dfs_stats()`\n",
    "- `myLabelEncoder()` (class)\n",
    "- `mask50` (array): should just save the fitted RFECV object and use the transform() method?\n",
    "## Tonight\n",
    "- Before starting each, try with small numbers to see if bugs\n",
    "- Check stuff changes\n",
    "- Explained variance can wait, no computation really\n",
    "- Ok I'm just doing n_estimators"
   ]
  },
  {
   "cell_type": "markdown",
   "id": "5f43da4b-8984-4e2f-9547-013622089cd0",
   "metadata": {},
   "source": [
    "### Modules"
   ]
  },
  {
   "cell_type": "code",
   "execution_count": 2,
   "id": "9b7f6c85-3201-4ffb-b221-55e47761544b",
   "metadata": {},
   "outputs": [],
   "source": [
    "import sys\n",
    "import os\n",
    "from glob import glob\n",
    "import numpy as np\n",
    "import pandas as pd\n",
    "import seaborn as sns\n",
    "import matplotlib.pyplot as plt\n",
    "from tqdm import tqdm\n",
    "import pickle as pkl\n",
    "import importlib\n",
    "from ppca import PPCA\n",
    "\n",
    "from sklearn.model_selection import train_test_split, StratifiedKFold, cross_val_score\n",
    "from sklearn.preprocessing import LabelEncoder, StandardScaler\n",
    "from imblearn.ensemble import BalancedRandomForestClassifier\n",
    "from sklearn.metrics import accuracy_score, classification_report, confusion_matrix, precision_recall_fscore_support, roc_auc_score\n",
    "from sklearn.impute import SimpleImputer\n",
    "from sklearn.feature_selection import RFECV\n",
    "\n",
    "from utils.testers import ss, assess\n",
    "from utils.reporters import basic_scores, bs_rankings, bs_curves\n",
    "from utils.helpers import mask50\n",
    "importlib.reload(utils.reporters)\n",
    "importlib.reload(utils.testers)\n",
    "importlib.reload(utils.helpers)"
   ]
  },
  {
   "cell_type": "markdown",
   "id": "50bcae47-dc14-4ba2-b026-cab73a63fbad",
   "metadata": {
    "editable": true,
    "slideshow": {
     "slide_type": ""
    },
    "tags": []
   },
   "source": [
    "### Data\n",
    "The training data were lightcurves from ZTF alerts, labeled according to different catalogs as described in the articles.\n",
    "\n",
    "The publicly available data related to the LC classifier is composed of three .csv files: \n",
    "- `labeled_set_lc_classifier_SanchezSaez_2020.csv` (~10MB) aka `labels_file`: the training set with columns ZTF id, label, celestial coordinates, catalog (e.g. MILLIQUAS) and catalog id.\n",
    "- `features_for_lc_classifier_20200609.csv` (~2.2GB) aka `features_file`: the complete dataset containing the labeled events as well as unlabeled events for testing, with columns ZTF id and the 183 features.\n",
    "- `ALeRCE_lc_classifier_outputs_ZTF_unlabeled_set_20200609.csv` (~300MB) aka `test_file`: the test set with columns ZTF id, celestial coordinates, probabilities of belonging to each class, predicted class and predicted class probability.\n",
    "\n",
    "ZTF id is called OID in the files."
   ]
  },
  {
   "cell_type": "code",
   "execution_count": null,
   "id": "f62c6e39-3c3b-4960-82f5-7295971a2173",
   "metadata": {
    "editable": true,
    "slideshow": {
     "slide_type": ""
    },
    "tags": []
   },
   "outputs": [],
   "source": [
    "# Convert .csv to .pkl for faster pandas reading, just one time\n",
    "\n",
    "raw_data_path = \"data/raw/\"\n",
    "features_filename = \"features_for_lc_classifier_20200609.csv\"\n",
    "labels_filename = \"labeled_set_lc_classifier_SanchezSaez_2020.csv\"\n",
    "test_filename = \"ALeRCE_lc_classifier_outputs_ZTF_unlabeled_set_20200609.csv\"\n",
    "\n",
    "features_file = pd.read_csv(raw_data_path + features_filename,index_col=\"oid\")\n",
    "labels_file = pd.read_csv(raw_data_path + labels_filename,index_col=\"oid\")\n",
    "test_file = pd.read_csv(raw_data_path + test_filename,index_col=\"oid\")\n",
    "\n",
    "features_file.to_pickle(raw_data_path + \"features_file.pkl\")\n",
    "labels_file.to_pickle(raw_data_path + \"labels_file.pkl\")\n",
    "test_file.to_pickle(raw_data_path + \"test_file.pkl\")"
   ]
  },
  {
   "cell_type": "code",
   "execution_count": 4,
   "id": "322e52c7-d92d-4b45-bca3-94b388b8fac8",
   "metadata": {},
   "outputs": [],
   "source": [
    "# Fast data import\n",
    "\n",
    "features_file = pd.read_pickle(raw_data_path + \"features_file.pkl\")\n",
    "labels_file = pd.read_pickle(raw_data_path + \"labels_file.pkl\")\n",
    "test_file = pd.read_pickle(raw_data_path + \"test_file.pkl\")"
   ]
  },
  {
   "cell_type": "code",
   "execution_count": 6,
   "id": "a0adb3a7-6858-4b15-a51e-73380ee676a3",
   "metadata": {
    "editable": true,
    "slideshow": {
     "slide_type": ""
    },
    "tags": []
   },
   "outputs": [],
   "source": [
    "# select \"transient\" (supernovae) samples and save them as .pkl\n",
    "\n",
    "transient_classes = [\"SNIa\", \"SNIbc\", \"SNII\", \"SLSN\"]\n",
    "transient_labeled = labels_file[labels_file[\"classALeRCE\"].isin(transient_classes)]\n",
    "transient_features = features_file.loc[transient_labeled.index]\n",
    "transient_labeled.to_pickle(\"data/transient_labeled.pkl\")\n",
    "transient_features.to_pickle(\"data/transient_features.pkl\")\n",
    "\n",
    "# select \"stochastic\" (supernovae) samples and save them as .pkl\n",
    "\n",
    "stochastic_classes = [\"QSO\", \"AGN\", \"Blazar\", \"YSO\", \"CV/Nova\"]\n",
    "stochastic_labeled = labels_file[labels_file[\"classALeRCE\"].isin(stochastic_classes)]\n",
    "stochastic_features = features_file.loc[stochastic_labeled.index]\n",
    "stochastic_labeled.to_pickle(\"data/stochastic_labeled.pkl\")\n",
    "stochastic_features.to_pickle(\"data/stochastic_features.pkl\")\n",
    "\n",
    "# select \"periodic\" (variable stars) samples and save them as .pkl\n",
    "\n",
    "periodic_classes = [\"LPV\",\"E\",\"DSCT\",\"RRL\",\"CEP\",\"Periodic-Other\"]\n",
    "periodic_labeled = labels_file[labels_file[\"classALeRCE\"].isin(periodic_classes)]\n",
    "periodic_features = features_file.loc[periodic_labeled.index]\n",
    "periodic_labeled.to_pickle(\"data/periodic_labeled.pkl\")\n",
    "periodic_features.to_pickle(\"data/periodic_features.pkl\")"
   ]
  }
 ],
 "metadata": {
  "kernelspec": {
   "display_name": "Python 3 (ipykernel)",
   "language": "python",
   "name": "python3"
  },
  "language_info": {
   "codemirror_mode": {
    "name": "ipython",
    "version": 3
   },
   "file_extension": ".py",
   "mimetype": "text/x-python",
   "name": "python",
   "nbconvert_exporter": "python",
   "pygments_lexer": "ipython3",
   "version": "3.11.6"
  }
 },
 "nbformat": 4,
 "nbformat_minor": 5
}
